{
 "cells": [
  {
   "cell_type": "markdown",
   "metadata": {},
   "source": [
    "# Estimates Analysis\n",
    "\n",
    "TBA \n",
    "\n",
    "Conclusions:\n",
    "\n",
    "TBA\n",
    "\n",
    "## Data and Methodology\n",
    "\n",
    "Datasources:\n",
    "\n",
    "* EPS Consensus values (Estimize consensuses.csv)\n",
    "* Asset historical prices (Zipline.io/Quandl prices dataset)\n",
    "* SPY historical prices (Yahoo Finance)\n"
   ]
  },
  {
   "cell_type": "code",
   "execution_count": 2,
   "metadata": {},
   "outputs": [],
   "source": [
    "# Imports\n",
    "\n",
    "from datetime import timedelta\n",
    "from IPython.display import display, HTML, Markdown\n",
    "import logging.config\n",
    "import math\n",
    "import os\n",
    "import sys\n",
    "\n",
    "from injector import Injector\n",
    "import matplotlib.cm as cmx\n",
    "import matplotlib.colors as colors\n",
    "import matplotlib.pyplot as plt\n",
    "import numpy as np\n",
    "import pandas as pd\n",
    "from scipy.stats import mstats\n",
    "import statsmodels.api as sm\n",
    "\n",
    "module_path = os.path.abspath(os.path.join('..'))\n",
    "\n",
    "if module_path not in sys.path:\n",
    "    sys.path.append(module_path)\n",
    "\n",
    "from estimize.logging import configure_logging\n",
    "from estimize.di.default_module import DefaultModule\n",
    "from estimize.services import (\n",
    "    AssetService, AssetInfoService, CalendarService, EstimatesService, \n",
    "    EstimizeConsensusService, EventStudyService, MarketCapService, ReleasesService\n",
    ")\n",
    "from estimize.pandas import dfutils\n",
    "\n",
    "configure_logging('ERROR')\n",
    "\n",
    "injector = Injector([DefaultModule])\n",
    "asset_service = injector.get(AssetService)\n",
    "asset_info_service = injector.get(AssetInfoService)\n",
    "calendar_service = injector.get(CalendarService)\n",
    "estimates_service = injector.get(EstimatesService)\n",
    "releases_service = injector.get(ReleasesService)\n",
    "estimize_consensus_service = injector.get(EstimizeConsensusService)\n"
   ]
  },
  {
   "cell_type": "code",
   "execution_count": 270,
   "metadata": {},
   "outputs": [],
   "source": [
    "def get_estimates(start_date, end_date):\n",
    "    rdf = releases_service.get_releases(start_date, end_date)\n",
    "    rdf.reset_index(inplace=True)\n",
    "    rdf = rdf[rdf['estimize.eps'].notnull()]\n",
    "    rdf = rdf[rdf['reported.eps'].notnull()]\n",
    "    rdf.set_index('asset', inplace=True)\n",
    "    \n",
    "    adf = asset_info_service.get_asset_info()[['industry', 'sector']]\n",
    "    rdf = rdf.join(adf, how='inner')\n",
    "    rdf.reset_index(inplace=True)\n",
    "    rdf.set_index('release_id', inplace=True)\n",
    "    \n",
    "    df = estimates_service.get_estimates()\n",
    "    df.reset_index(inplace=True)\n",
    "    df.set_index('release_id', inplace=True)\n",
    "    df = df[df['flagged'] == False]\n",
    "    \n",
    "    df = df.join(rdf, how='inner')\n",
    "    df.reset_index(inplace=True)\n",
    "    df.set_index(['asset', 'fiscal_year', 'fiscal_quarter'], inplace=True)\n",
    "    \n",
    "    cdf = estimize_consensus_service.get_final_consensuses(start_date, end_date)\n",
    "    cdf.reset_index(inplace=True)\n",
    "    cdf.set_index(['asset', 'fiscal_year', 'fiscal_quarter'], inplace=True)\n",
    "    \n",
    "    df = df.join(cdf, how='inner', rsuffix='_right')\n",
    "    df.reset_index(inplace=True)\n",
    "    \n",
    "    df = df[['as_of_date', 'created_at', 'reports_at_date', 'bmo', 'sector', 'industry', 'asset', 'release_id', 'user_id', 'eps', 'estimize.eps.mean', 'estimize.eps.sd', 'estimize.eps.weighted', 'wallstreet.eps', 'actual.eps']].copy()\n",
    "    \n",
    "    return df\n",
    "\n",
    "def get_estimate_factors(df):\n",
    "    df = df.copy()\n",
    "    df['error_z_score'] = (df['eps'] - df['actual.eps']) / (df['estimize.eps.sd'] + 0.01)\n",
    "    df['eps_z_score'] = (df['eps'] - df['estimize.eps.mean']) / (df['estimize.eps.sd'] + 0.01)\n",
    "#     df['reports_at_date'] = pd.to_datetime(df['reports_at_date'])\n",
    "    df['ttr'] = df['as_of_date'].subtract(df['created_at']).dt.total_seconds() / timedelta(days=1).total_seconds()\n",
    "    df = df[df['ttr'] > 0]\n",
    "    df.dropna(subset=['error_z_score', 'eps_z_score'], inplace=True)\n",
    "    \n",
    "#     df['error_z_score'] = mstats.winsorize(df['error_z_score'], limits=[0.01, 0.01])\n",
    "#     df['eps_z_score'] = mstats.winsorize(df['eps_z_score'], limits=[0.01, 0.01])\n",
    "    \n",
    "    return df\n",
    "\n",
    "def get_factors(df, index):\n",
    "    if index == 'user':\n",
    "        column = 'user_id'\n",
    "    else:\n",
    "        column = index\n",
    "        \n",
    "    error_z_score_column = 'error_z_score_{}'.format(index)\n",
    "            \n",
    "    df = df.groupby([column, 'reports_at_date'])[['error_z_score']].agg(['sum', 'count'])\n",
    "    df.columns = ['_'.join(x) for x in df.columns.ravel()]\n",
    "    df.reset_index(inplace=True)\n",
    "    df.set_index('reports_at_date', inplace=True)\n",
    "    \n",
    "    df = df.groupby(column)[['error_z_score_sum', 'error_z_score_count']].expanding().sum()\n",
    "    df[error_z_score_column] = df['error_z_score_sum'] / df['error_z_score_count']\n",
    "    df.drop(['error_z_score_sum', 'error_z_score_count'], axis=1, inplace=True)\n",
    "    \n",
    "    df.reset_index(inplace=True)\n",
    "    df.set_index('reports_at_date', inplace=True)\n",
    "    df[error_z_score_column] = df.groupby(column)[error_z_score_column].transform(lambda vals: vals.shift(1))\n",
    "    df.fillna(0.0, inplace=True)\n",
    "    \n",
    "    df.reset_index(inplace=True)\n",
    "    df.set_index(['reports_at_date', column], inplace=True)\n",
    "    \n",
    "    return df\n"
   ]
  },
  {
   "cell_type": "code",
   "execution_count": 237,
   "metadata": {},
   "outputs": [
    {
     "name": "stdout",
     "output_type": "stream",
     "text": [
      "606830\n"
     ]
    }
   ],
   "source": [
    "start_date = '2012-01-01'\n",
    "end_date = '2017-10-01'\n",
    "\n",
    "edf = get_estimates(start_date, end_date)\n",
    "print(len(edf))"
   ]
  },
  {
   "cell_type": "code",
   "execution_count": 271,
   "metadata": {},
   "outputs": [
    {
     "name": "stdout",
     "output_type": "stream",
     "text": [
      "470840\n",
      "as_of_date               datetime64[ns]\n",
      "created_at               datetime64[ns]\n",
      "reports_at_date                  object\n",
      "bmo                                bool\n",
      "sector                           object\n",
      "industry                         object\n",
      "asset                            object\n",
      "release_id                        int64\n",
      "user_id                           int64\n",
      "eps                             float64\n",
      "estimize.eps.mean               float64\n",
      "estimize.eps.sd                 float64\n",
      "estimize.eps.weighted           float64\n",
      "wallstreet.eps                  float64\n",
      "actual.eps                      float64\n",
      "error_z_score                   float64\n",
      "eps_z_score                     float64\n",
      "ttr                             float64\n",
      "dtype: object\n"
     ]
    },
    {
     "data": {
      "text/html": [
       "<div>\n",
       "<table border=\"1\" class=\"dataframe\">\n",
       "  <thead>\n",
       "    <tr style=\"text-align: right;\">\n",
       "      <th></th>\n",
       "      <th>as_of_date</th>\n",
       "      <th>created_at</th>\n",
       "      <th>reports_at_date</th>\n",
       "      <th>bmo</th>\n",
       "      <th>sector</th>\n",
       "      <th>industry</th>\n",
       "      <th>asset</th>\n",
       "      <th>release_id</th>\n",
       "      <th>user_id</th>\n",
       "      <th>eps</th>\n",
       "      <th>estimize.eps.mean</th>\n",
       "      <th>estimize.eps.sd</th>\n",
       "      <th>estimize.eps.weighted</th>\n",
       "      <th>wallstreet.eps</th>\n",
       "      <th>actual.eps</th>\n",
       "      <th>error_z_score</th>\n",
       "      <th>eps_z_score</th>\n",
       "      <th>ttr</th>\n",
       "    </tr>\n",
       "  </thead>\n",
       "  <tbody>\n",
       "    <tr>\n",
       "      <th>0</th>\n",
       "      <td>2016-01-28</td>\n",
       "      <td>2015-12-15 21:05:03</td>\n",
       "      <td>2016-01-28</td>\n",
       "      <td>True</td>\n",
       "      <td>Consumer Discretionary</td>\n",
       "      <td>Internet &amp; Catalog Retail</td>\n",
       "      <td>Equity(0 [FLWS])</td>\n",
       "      <td>126036</td>\n",
       "      <td>54714</td>\n",
       "      <td>-0.16</td>\n",
       "      <td>0.45000</td>\n",
       "      <td>0.482967</td>\n",
       "      <td>0.427836</td>\n",
       "      <td>-0.138</td>\n",
       "      <td>0.92</td>\n",
       "      <td>-2.190816</td>\n",
       "      <td>-1.237405</td>\n",
       "      <td>43.121493</td>\n",
       "    </tr>\n",
       "    <tr>\n",
       "      <th>1</th>\n",
       "      <td>2016-01-28</td>\n",
       "      <td>2016-01-11 14:30:29</td>\n",
       "      <td>2016-01-28</td>\n",
       "      <td>True</td>\n",
       "      <td>Consumer Discretionary</td>\n",
       "      <td>Internet &amp; Catalog Retail</td>\n",
       "      <td>Equity(0 [FLWS])</td>\n",
       "      <td>126036</td>\n",
       "      <td>55137</td>\n",
       "      <td>0.90</td>\n",
       "      <td>0.45000</td>\n",
       "      <td>0.482967</td>\n",
       "      <td>0.427836</td>\n",
       "      <td>-0.138</td>\n",
       "      <td>0.92</td>\n",
       "      <td>-0.040571</td>\n",
       "      <td>0.912840</td>\n",
       "      <td>16.395498</td>\n",
       "    </tr>\n",
       "    <tr>\n",
       "      <th>2</th>\n",
       "      <td>2016-01-28</td>\n",
       "      <td>2016-01-21 11:45:22</td>\n",
       "      <td>2016-01-28</td>\n",
       "      <td>True</td>\n",
       "      <td>Consumer Discretionary</td>\n",
       "      <td>Internet &amp; Catalog Retail</td>\n",
       "      <td>Equity(0 [FLWS])</td>\n",
       "      <td>126036</td>\n",
       "      <td>48763</td>\n",
       "      <td>0.87</td>\n",
       "      <td>0.45000</td>\n",
       "      <td>0.482967</td>\n",
       "      <td>0.427836</td>\n",
       "      <td>-0.138</td>\n",
       "      <td>0.92</td>\n",
       "      <td>-0.101427</td>\n",
       "      <td>0.851984</td>\n",
       "      <td>6.510162</td>\n",
       "    </tr>\n",
       "    <tr>\n",
       "      <th>3</th>\n",
       "      <td>2016-01-28</td>\n",
       "      <td>2016-01-27 02:48:01</td>\n",
       "      <td>2016-01-28</td>\n",
       "      <td>True</td>\n",
       "      <td>Consumer Discretionary</td>\n",
       "      <td>Internet &amp; Catalog Retail</td>\n",
       "      <td>Equity(0 [FLWS])</td>\n",
       "      <td>126036</td>\n",
       "      <td>55238</td>\n",
       "      <td>0.89</td>\n",
       "      <td>0.45000</td>\n",
       "      <td>0.482967</td>\n",
       "      <td>0.427836</td>\n",
       "      <td>-0.138</td>\n",
       "      <td>0.92</td>\n",
       "      <td>-0.060856</td>\n",
       "      <td>0.892555</td>\n",
       "      <td>0.883322</td>\n",
       "    </tr>\n",
       "    <tr>\n",
       "      <th>8</th>\n",
       "      <td>2016-04-26</td>\n",
       "      <td>2016-01-11 14:30:29</td>\n",
       "      <td>2016-04-26</td>\n",
       "      <td>True</td>\n",
       "      <td>Consumer Discretionary</td>\n",
       "      <td>Internet &amp; Catalog Retail</td>\n",
       "      <td>Equity(0 [FLWS])</td>\n",
       "      <td>126037</td>\n",
       "      <td>55137</td>\n",
       "      <td>-0.13</td>\n",
       "      <td>-0.15125</td>\n",
       "      <td>0.037562</td>\n",
       "      <td>-0.158300</td>\n",
       "      <td>-0.236</td>\n",
       "      <td>-0.14</td>\n",
       "      <td>0.210250</td>\n",
       "      <td>0.446781</td>\n",
       "      <td>105.395498</td>\n",
       "    </tr>\n",
       "  </tbody>\n",
       "</table>\n",
       "</div>"
      ],
      "text/plain": [
       "  as_of_date          created_at reports_at_date   bmo  \\\n",
       "0 2016-01-28 2015-12-15 21:05:03      2016-01-28  True   \n",
       "1 2016-01-28 2016-01-11 14:30:29      2016-01-28  True   \n",
       "2 2016-01-28 2016-01-21 11:45:22      2016-01-28  True   \n",
       "3 2016-01-28 2016-01-27 02:48:01      2016-01-28  True   \n",
       "8 2016-04-26 2016-01-11 14:30:29      2016-04-26  True   \n",
       "\n",
       "                   sector                   industry             asset  \\\n",
       "0  Consumer Discretionary  Internet & Catalog Retail  Equity(0 [FLWS])   \n",
       "1  Consumer Discretionary  Internet & Catalog Retail  Equity(0 [FLWS])   \n",
       "2  Consumer Discretionary  Internet & Catalog Retail  Equity(0 [FLWS])   \n",
       "3  Consumer Discretionary  Internet & Catalog Retail  Equity(0 [FLWS])   \n",
       "8  Consumer Discretionary  Internet & Catalog Retail  Equity(0 [FLWS])   \n",
       "\n",
       "   release_id  user_id   eps  estimize.eps.mean  estimize.eps.sd  \\\n",
       "0      126036    54714 -0.16            0.45000         0.482967   \n",
       "1      126036    55137  0.90            0.45000         0.482967   \n",
       "2      126036    48763  0.87            0.45000         0.482967   \n",
       "3      126036    55238  0.89            0.45000         0.482967   \n",
       "8      126037    55137 -0.13           -0.15125         0.037562   \n",
       "\n",
       "   estimize.eps.weighted  wallstreet.eps  actual.eps  error_z_score  \\\n",
       "0               0.427836          -0.138        0.92      -2.190816   \n",
       "1               0.427836          -0.138        0.92      -0.040571   \n",
       "2               0.427836          -0.138        0.92      -0.101427   \n",
       "3               0.427836          -0.138        0.92      -0.060856   \n",
       "8              -0.158300          -0.236       -0.14       0.210250   \n",
       "\n",
       "   eps_z_score         ttr  \n",
       "0    -1.237405   43.121493  \n",
       "1     0.912840   16.395498  \n",
       "2     0.851984    6.510162  \n",
       "3     0.892555    0.883322  \n",
       "8     0.446781  105.395498  "
      ]
     },
     "metadata": {},
     "output_type": "display_data"
    },
    {
     "name": "stdout",
     "output_type": "stream",
     "text": [
      "-3.011001751855973e+19\n",
      "-63949574204739.92\n",
      "2492.5239365233806\n"
     ]
    }
   ],
   "source": [
    "efdf = get_estimate_factors(edf)\n",
    "print(len(efdf))\n",
    "print(efdf.dtypes)\n",
    "display(efdf.head())\n",
    "print(efdf['error_z_score'].min())\n",
    "print(efdf['error_z_score'].mean())\n",
    "print(efdf['error_z_score'].max())"
   ]
  },
  {
   "cell_type": "code",
   "execution_count": 111,
   "metadata": {},
   "outputs": [
    {
     "name": "stdout",
     "output_type": "stream",
     "text": [
      "192623\n"
     ]
    },
    {
     "data": {
      "text/html": [
       "<div>\n",
       "<table border=\"1\" class=\"dataframe\">\n",
       "  <thead>\n",
       "    <tr style=\"text-align: right;\">\n",
       "      <th></th>\n",
       "      <th></th>\n",
       "      <th>error_z_score_user</th>\n",
       "    </tr>\n",
       "    <tr>\n",
       "      <th>reports_at_date</th>\n",
       "      <th>user_id</th>\n",
       "      <th></th>\n",
       "    </tr>\n",
       "  </thead>\n",
       "  <tbody>\n",
       "    <tr>\n",
       "      <th>2014-01-14</th>\n",
       "      <th>1</th>\n",
       "      <td>0.000000</td>\n",
       "    </tr>\n",
       "    <tr>\n",
       "      <th>2014-01-16</th>\n",
       "      <th>1</th>\n",
       "      <td>-2.580370</td>\n",
       "    </tr>\n",
       "    <tr>\n",
       "      <th>2014-04-23</th>\n",
       "      <th>1</th>\n",
       "      <td>-2.905386</td>\n",
       "    </tr>\n",
       "    <tr>\n",
       "      <th>2014-05-08</th>\n",
       "      <th>1</th>\n",
       "      <td>-2.423380</td>\n",
       "    </tr>\n",
       "    <tr>\n",
       "      <th>2014-05-21</th>\n",
       "      <th>1</th>\n",
       "      <td>-2.058345</td>\n",
       "    </tr>\n",
       "  </tbody>\n",
       "</table>\n",
       "</div>"
      ],
      "text/plain": [
       "                         error_z_score_user\n",
       "reports_at_date user_id                    \n",
       "2014-01-14      1                  0.000000\n",
       "2014-01-16      1                 -2.580370\n",
       "2014-04-23      1                 -2.905386\n",
       "2014-05-08      1                 -2.423380\n",
       "2014-05-21      1                 -2.058345"
      ]
     },
     "metadata": {},
     "output_type": "display_data"
    }
   ],
   "source": [
    "ufdf = get_factors(efdf, index='user')\n",
    "print(len(ufdf))\n",
    "display(ufdf.head())"
   ]
  },
  {
   "cell_type": "code",
   "execution_count": 112,
   "metadata": {},
   "outputs": [
    {
     "name": "stdout",
     "output_type": "stream",
     "text": [
      "23479\n"
     ]
    },
    {
     "data": {
      "text/html": [
       "<div>\n",
       "<table border=\"1\" class=\"dataframe\">\n",
       "  <thead>\n",
       "    <tr style=\"text-align: right;\">\n",
       "      <th></th>\n",
       "      <th></th>\n",
       "      <th>error_z_score_asset</th>\n",
       "    </tr>\n",
       "    <tr>\n",
       "      <th>reports_at_date</th>\n",
       "      <th>asset</th>\n",
       "      <th></th>\n",
       "    </tr>\n",
       "  </thead>\n",
       "  <tbody>\n",
       "    <tr>\n",
       "      <th>2016-01-28</th>\n",
       "      <th>Equity(0 [FLWS])</th>\n",
       "      <td>0.000000</td>\n",
       "    </tr>\n",
       "    <tr>\n",
       "      <th>2016-04-26</th>\n",
       "      <th>Equity(0 [FLWS])</th>\n",
       "      <td>-1.097944</td>\n",
       "    </tr>\n",
       "    <tr>\n",
       "      <th>2016-08-25</th>\n",
       "      <th>Equity(0 [FLWS])</th>\n",
       "      <td>-0.694674</td>\n",
       "    </tr>\n",
       "    <tr>\n",
       "      <th>2016-11-02</th>\n",
       "      <th>Equity(0 [FLWS])</th>\n",
       "      <td>-0.099636</td>\n",
       "    </tr>\n",
       "    <tr>\n",
       "      <th>2012-07-26</th>\n",
       "      <th>Equity(4 [DDD])</th>\n",
       "      <td>0.000000</td>\n",
       "    </tr>\n",
       "  </tbody>\n",
       "</table>\n",
       "</div>"
      ],
      "text/plain": [
       "                                  error_z_score_asset\n",
       "reports_at_date asset                                \n",
       "2016-01-28      Equity(0 [FLWS])             0.000000\n",
       "2016-04-26      Equity(0 [FLWS])            -1.097944\n",
       "2016-08-25      Equity(0 [FLWS])            -0.694674\n",
       "2016-11-02      Equity(0 [FLWS])            -0.099636\n",
       "2012-07-26      Equity(4 [DDD])              0.000000"
      ]
     },
     "metadata": {},
     "output_type": "display_data"
    }
   ],
   "source": [
    "afdf = get_factors(efdf, index='asset')\n",
    "print(len(afdf))\n",
    "display(afdf.head())"
   ]
  },
  {
   "cell_type": "code",
   "execution_count": 113,
   "metadata": {},
   "outputs": [
    {
     "name": "stdout",
     "output_type": "stream",
     "text": [
      "13516\n"
     ]
    },
    {
     "data": {
      "text/html": [
       "<div>\n",
       "<table border=\"1\" class=\"dataframe\">\n",
       "  <thead>\n",
       "    <tr style=\"text-align: right;\">\n",
       "      <th></th>\n",
       "      <th></th>\n",
       "      <th>error_z_score_industry</th>\n",
       "    </tr>\n",
       "    <tr>\n",
       "      <th>reports_at_date</th>\n",
       "      <th>industry</th>\n",
       "      <th></th>\n",
       "    </tr>\n",
       "  </thead>\n",
       "  <tbody>\n",
       "    <tr>\n",
       "      <th>2012-01-09</th>\n",
       "      <th>Aerospace &amp; Defense</th>\n",
       "      <td>0.000000</td>\n",
       "    </tr>\n",
       "    <tr>\n",
       "      <th>2012-01-25</th>\n",
       "      <th>Aerospace &amp; Defense</th>\n",
       "      <td>2.634760</td>\n",
       "    </tr>\n",
       "    <tr>\n",
       "      <th>2012-04-10</th>\n",
       "      <th>Aerospace &amp; Defense</th>\n",
       "      <td>1.575444</td>\n",
       "    </tr>\n",
       "    <tr>\n",
       "      <th>2012-07-09</th>\n",
       "      <th>Aerospace &amp; Defense</th>\n",
       "      <td>0.397072</td>\n",
       "    </tr>\n",
       "    <tr>\n",
       "      <th>2012-07-18</th>\n",
       "      <th>Aerospace &amp; Defense</th>\n",
       "      <td>0.358569</td>\n",
       "    </tr>\n",
       "  </tbody>\n",
       "</table>\n",
       "</div>"
      ],
      "text/plain": [
       "                                     error_z_score_industry\n",
       "reports_at_date industry                                   \n",
       "2012-01-09      Aerospace & Defense                0.000000\n",
       "2012-01-25      Aerospace & Defense                2.634760\n",
       "2012-04-10      Aerospace & Defense                1.575444\n",
       "2012-07-09      Aerospace & Defense                0.397072\n",
       "2012-07-18      Aerospace & Defense                0.358569"
      ]
     },
     "metadata": {},
     "output_type": "display_data"
    }
   ],
   "source": [
    "ifdf = get_factors(efdf, index='industry')\n",
    "print(len(ifdf))\n",
    "display(ifdf.head())"
   ]
  },
  {
   "cell_type": "code",
   "execution_count": 114,
   "metadata": {},
   "outputs": [
    {
     "name": "stdout",
     "output_type": "stream",
     "text": [
      "5700\n"
     ]
    },
    {
     "data": {
      "text/html": [
       "<div>\n",
       "<table border=\"1\" class=\"dataframe\">\n",
       "  <thead>\n",
       "    <tr style=\"text-align: right;\">\n",
       "      <th></th>\n",
       "      <th></th>\n",
       "      <th>error_z_score_sector</th>\n",
       "    </tr>\n",
       "    <tr>\n",
       "      <th>reports_at_date</th>\n",
       "      <th>sector</th>\n",
       "      <th></th>\n",
       "    </tr>\n",
       "  </thead>\n",
       "  <tbody>\n",
       "    <tr>\n",
       "      <th>2012-01-05</th>\n",
       "      <th>Consumer Discretionary</th>\n",
       "      <td>0.000000</td>\n",
       "    </tr>\n",
       "    <tr>\n",
       "      <th>2012-01-11</th>\n",
       "      <th>Consumer Discretionary</th>\n",
       "      <td>0.131359</td>\n",
       "    </tr>\n",
       "    <tr>\n",
       "      <th>2012-01-24</th>\n",
       "      <th>Consumer Discretionary</th>\n",
       "      <td>0.467736</td>\n",
       "    </tr>\n",
       "    <tr>\n",
       "      <th>2012-01-25</th>\n",
       "      <th>Consumer Discretionary</th>\n",
       "      <td>-0.103264</td>\n",
       "    </tr>\n",
       "    <tr>\n",
       "      <th>2012-01-26</th>\n",
       "      <th>Consumer Discretionary</th>\n",
       "      <td>-0.199364</td>\n",
       "    </tr>\n",
       "  </tbody>\n",
       "</table>\n",
       "</div>"
      ],
      "text/plain": [
       "                                        error_z_score_sector\n",
       "reports_at_date sector                                      \n",
       "2012-01-05      Consumer Discretionary              0.000000\n",
       "2012-01-11      Consumer Discretionary              0.131359\n",
       "2012-01-24      Consumer Discretionary              0.467736\n",
       "2012-01-25      Consumer Discretionary             -0.103264\n",
       "2012-01-26      Consumer Discretionary             -0.199364"
      ]
     },
     "metadata": {},
     "output_type": "display_data"
    }
   ],
   "source": [
    "sfdf = get_factors(efdf, index='sector')\n",
    "print(len(sfdf))\n",
    "display(sfdf.head())"
   ]
  },
  {
   "cell_type": "markdown",
   "metadata": {},
   "source": [
    "## EPS Deltas"
   ]
  },
  {
   "cell_type": "code",
   "execution_count": 260,
   "metadata": {},
   "outputs": [
    {
     "name": "stdout",
     "output_type": "stream",
     "text": [
      "-3.011001751855973e+19\n",
      "-63949574204739.92\n",
      "2492.5239365233806\n"
     ]
    },
    {
     "data": {
      "image/png": "[encoded data removed]",
      "text/plain": [
       "<matplotlib.figure.Figure at 0x116facb00>"
      ]
     },
     "metadata": {},
     "output_type": "display_data"
    }
   ],
   "source": [
    "df = efdf.copy()\n",
    "# df = afdf.copy()\n",
    "\n",
    "df['ttr'] = np.log(df['ttr'])\n",
    "\n",
    "# df['error_z_score'] = df['error_z_score_asset']\n",
    "# df['error_z_score'] = df['error_z_score_industry']\n",
    "# df['error_z_score'] = df['error_z_score_sector']\n",
    "\n",
    "# df = df[df['error_z_score'] < 0]\n",
    "# df['error_z_score'] = np.log(-1 * df['error_z_score'])\n",
    "\n",
    "# df = df[df['error_z_score'] > 0]\n",
    "# df['error_z_score'] = np.log(df['error_z_score'])\n",
    "\n",
    "print(df.error_z_score.min())\n",
    "print(df.error_z_score.mean())\n",
    "print(df.error_z_score.max())\n",
    "\n",
    "bins = np.linspace(-8, 8, 100)\n",
    "\n",
    "plt.hist(df['ttr'], bins)\n",
    "plt.title(\"Estimate Errors\")\n",
    "plt.xlabel(\"Error Z-Score\")\n",
    "plt.ylabel(\"Frequency\")\n",
    "plt.show()\n"
   ]
  },
  {
   "cell_type": "code",
   "execution_count": 272,
   "metadata": {},
   "outputs": [],
   "source": [
    "jdf = efdf.copy()\n",
    "jdf.reset_index(inplace=True)\n",
    "jdf.set_index(['reports_at_date', 'sector'], inplace=True)\n",
    "jdf = jdf.join(sfdf, how='inner')\n",
    "\n",
    "jdf.reset_index(inplace=True)\n",
    "jdf.set_index(['reports_at_date', 'industry'], inplace=True)\n",
    "jdf = jdf.join(ifdf, how='inner')\n",
    "\n",
    "jdf.reset_index(inplace=True)\n",
    "jdf.set_index(['reports_at_date', 'asset'], inplace=True)\n",
    "jdf = jdf.join(afdf, how='inner')\n",
    "\n",
    "jdf.reset_index(inplace=True)\n",
    "jdf.set_index(['reports_at_date', 'user_id'], inplace=True)\n",
    "jdf = jdf.join(ufdf, how='inner')"
   ]
  },
  {
   "cell_type": "code",
   "execution_count": 346,
   "metadata": {},
   "outputs": [
    {
     "name": "stdout",
     "output_type": "stream",
     "text": [
      "                            OLS Regression Results                            \n",
      "==============================================================================\n",
      "Dep. Variable:          error_z_score   R-squared:                       0.417\n",
      "Model:                            OLS   Adj. R-squared:                  0.417\n",
      "Method:                 Least Squares   F-statistic:                 4.204e+04\n",
      "Date:                Tue, 27 Mar 2018   Prob (F-statistic):               0.00\n",
      "Time:                        12:10:12   Log-Likelihood:            -1.0692e+06\n",
      "No. Observations:              470840   AIC:                         2.138e+06\n",
      "Df Residuals:                  470831   BIC:                         2.139e+06\n",
      "Df Model:                           8                                         \n",
      "Covariance Type:            nonrobust                                         \n",
      "==========================================================================================\n",
      "                             coef    std err          t      P>|t|      [0.025      0.975]\n",
      "------------------------------------------------------------------------------------------\n",
      "const                     -0.2172      0.006    -33.776      0.000      -0.230      -0.205\n",
      "error_z_score_user_2    -1.23e-05      0.002     -0.008      0.994      -0.003       0.003\n",
      "ttr                        0.0001   3.32e-05      3.851      0.000    6.29e-05       0.000\n",
      "error_z_score_sector       0.2423      0.016     14.892      0.000       0.210       0.274\n",
      "error_z_score_industry     0.1473      0.010     15.016      0.000       0.128       0.167\n",
      "error_z_score_asset        0.2412      0.003     84.882      0.000       0.236       0.247\n",
      "error_z_score_user        -0.0077      0.005     -1.583      0.113      -0.017       0.002\n",
      "eps_z_score_2             -0.0015      0.000     -9.332      0.000      -0.002      -0.001\n",
      "eps_z_score                1.0393      0.002    520.865      0.000       1.035       1.043\n",
      "==============================================================================\n",
      "Omnibus:                   124464.204   Durbin-Watson:                   1.363\n",
      "Prob(Omnibus):                  0.000   Jarque-Bera (JB):          9784962.797\n",
      "Skew:                          -0.259   Prob(JB):                         0.00\n",
      "Kurtosis:                      25.327   Cond. No.                         643.\n",
      "==============================================================================\n",
      "\n",
      "Warnings:\n",
      "[1] Standard Errors assume that the covariance matrix of the errors is correctly specified.\n"
     ]
    }
   ],
   "source": [
    "df = jdf.copy()\n",
    "# df = df[df['error_z_score'] < 0]\n",
    "# df['error_z_score'] *= -1\n",
    "# df['error_z_score'] = np.log(-1 * df['error_z_score'])\n",
    "\n",
    "# df = df[df['error_z_score'] > 0]\n",
    "# df['error_z_score'] = np.log(df['error_z_score'])\n",
    "\n",
    "df['error_z_score'] = mstats.winsorize(df['error_z_score'], limits=[0.001, 0.001])\n",
    "df['eps_z_score'] = mstats.winsorize(df['eps_z_score'], limits=[0.001, 0.001])\n",
    "\n",
    "df['eps_z_score_2'] = df['eps_z_score'] * df['eps_z_score']\n",
    "df['error_z_score_user_2'] = df['error_z_score_user'] * df['error_z_score_user']\n",
    "# df['ttr'] = np.log(df['ttr'])\n",
    "\n",
    "# model_columns = ['eps_z_score'] # R2 = 27.5%\n",
    "# model_columns = ['eps_z_score_2', 'eps_z_score'] # R2 = 27.5%\n",
    "# model_columns = ['error_z_score_user', 'eps_z_score_2', 'eps_z_score'] # R2 = 27.5%\n",
    "# model_columns = ['error_z_score_asset', 'error_z_score_user', 'eps_z_score_2', 'eps_z_score'] # R2 = 29.7%\n",
    "# model_columns = ['error_z_score_industry', 'error_z_score_asset', 'error_z_score_user', 'eps_z_score_2', 'eps_z_score'] # R2 = 29.9%\n",
    "# model_columns = ['ttr', 'error_z_score_sector', 'error_z_score_industry', 'error_z_score_asset', 'error_z_score_user', 'eps_z_score_2', 'eps_z_score'] # R2 = 29.9%  \n",
    "model_columns = ['error_z_score_user_2', 'ttr', 'error_z_score_sector', 'error_z_score_industry', 'error_z_score_asset', 'error_z_score_user', 'eps_z_score_2', 'eps_z_score'] # R2 = 29.9%  \n",
    "\n",
    "value_column = 'error_z_score'\n",
    "\n",
    "X = df[model_columns]\n",
    "X = sm.add_constant(X)\n",
    "y = df[value_column]\n",
    "\n",
    "# Note the difference in argument order\n",
    "model = sm.OLS(y, X).fit()\n",
    "# model = sm.GLM(y, X, family=sm.families.Tweedie(var_power=1.2, link_power=0)).fit()\n",
    "# r2 = 1 - (model.deviance / model.null_deviance)\n",
    "# print('r2: ', r2)\n",
    "df['prediction'] = model.predict(X) # make the predictions by the model\n",
    "\n",
    "# Print out the statistics\n",
    "print(model.summary())\n",
    "\n",
    "p = model.params\n",
    "\n",
    "# generate x-values for your regression line (two is sufficient)\n",
    "x = np.arange(-6, 14)\n",
    "\n",
    "# scatter-plot data\n",
    "# ax = df.plot(x=model_columns[0], y=value_column, kind='scatter')\n",
    "# bx = df.plot(x=model_columns[0], y='prediction', color='red', kind='scatter')"
   ]
  },
  {
   "cell_type": "code",
   "execution_count": 351,
   "metadata": {},
   "outputs": [
    {
     "data": {
      "image/png": "[encoded data removed]",
      "text/plain": [
       "<matplotlib.figure.Figure at 0x10de367b8>"
      ]
     },
     "metadata": {},
     "output_type": "display_data"
    }
   ],
   "source": [
    "bins = np.linspace(-6, 6, 100)\n",
    "\n",
    "plt.hist(df['error_z_score'], bins, alpha=0.90)\n",
    "plt.hist(df['prediction'], bins, color='red', alpha=0.64)\n",
    "plt.title(\"Error Delta\")\n",
    "plt.xlabel(\"Delta\")\n",
    "plt.ylabel(\"Frequency\")\n",
    "plt.show()"
   ]
  },
  {
   "cell_type": "code",
   "execution_count": 352,
   "metadata": {},
   "outputs": [
    {
     "name": "stdout",
     "output_type": "stream",
     "text": [
      "eps                     -3.070084e+12\n",
      "eps_t                   -3.070084e+12\n",
      "actual.eps               6.513016e-01\n",
      "estimize.eps.weighted    6.387517e-01\n",
      "eps_error                3.070084e+12\n",
      "eps_t_error              3.070084e+12\n",
      "eps_w_error              8.560496e-02\n",
      "am_win                   4.087510e-01\n",
      "at_win                   5.835554e-01\n",
      "bm_win                   4.156709e-01\n",
      "bw_win                   5.778819e-01\n",
      "ct_win                   5.023640e-01\n",
      "cw_win                   4.913178e-01\n",
      "dw_win                   5.778819e-01\n",
      "dm_win                   4.156709e-01\n",
      "dtype: float64\n"
     ]
    }
   ],
   "source": [
    "tdf = df[['release_id', 'prediction', 'eps', 'estimize.eps.sd', 'actual.eps', 'estimize.eps.weighted']].copy()\n",
    "tdf['eps_delta_t'] = tdf['prediction'] * tdf['estimize.eps.sd']\n",
    "tdf['eps_t'] = tdf['eps'] - tdf['eps_delta_t']\n",
    "# display(tdf)\n",
    "\n",
    "adf = tdf.groupby('release_id')['eps', 'eps_t', 'actual.eps', 'estimize.eps.weighted'].mean()\n",
    "adf['eps_error'] = np.abs(adf['actual.eps'] - adf['eps'])\n",
    "adf['eps_t_error'] = np.abs(adf['actual.eps'] - adf['eps_t'])\n",
    "adf['eps_w_error'] = np.abs(adf['actual.eps'] - adf['estimize.eps.weighted'])\n",
    "# display(adf)\n",
    "\n",
    "adf['am_win'] = adf['eps_error'] < adf['eps_t_error']\n",
    "adf['at_win'] = adf['eps_error'] > adf['eps_t_error']\n",
    "\n",
    "adf['bm_win'] = adf['eps_error'] < adf['eps_w_error']\n",
    "adf['bw_win'] = adf['eps_error'] > adf['eps_w_error']\n",
    "\n",
    "adf['ct_win'] = adf['eps_t_error'] < adf['eps_w_error']\n",
    "adf['cw_win'] = adf['eps_t_error'] > adf['eps_w_error']\n",
    "\n",
    "adf['dw_win'] = adf['eps_w_error'] < adf['eps_error']\n",
    "adf['dm_win'] = adf['eps_w_error'] > adf['eps_error']\n",
    "\n",
    "print(adf.mean())\n"
   ]
  },
  {
   "cell_type": "code",
   "execution_count": 15,
   "metadata": {},
   "outputs": [
    {
     "name": "stdout",
     "output_type": "stream",
     "text": [
      "[LibSVM][LibSVM]0.9996654658593902\n"
     ]
    },
    {
     "ename": "AttributeError",
     "evalue": "'OneVsRestClassifier' object has no attribute 'summary'",
     "output_type": "error",
     "traceback": [
      "\u001b[0;31m---------------------------------------------------------------------------\u001b[0m",
      "\u001b[0;31mAttributeError\u001b[0m                            Traceback (most recent call last)",
      "\u001b[0;32m<ipython-input-15-ca14f5547309>\u001b[0m in \u001b[0;36m<module>\u001b[0;34m()\u001b[0m\n\u001b[1;32m     52\u001b[0m \u001b[0;31m# Print out the statistics\u001b[0m\u001b[0;34m\u001b[0m\u001b[0;34m\u001b[0m\u001b[0m\n\u001b[1;32m     53\u001b[0m \u001b[0mprint\u001b[0m\u001b[0;34m(\u001b[0m\u001b[0mscore\u001b[0m\u001b[0;34m)\u001b[0m\u001b[0;34m\u001b[0m\u001b[0m\n\u001b[0;32m---> 54\u001b[0;31m \u001b[0mprint\u001b[0m\u001b[0;34m(\u001b[0m\u001b[0mmodel\u001b[0m\u001b[0;34m.\u001b[0m\u001b[0msummary\u001b[0m\u001b[0;34m(\u001b[0m\u001b[0;34m)\u001b[0m\u001b[0;34m)\u001b[0m\u001b[0;34m\u001b[0m\u001b[0m\n\u001b[0m",
      "\u001b[0;31mAttributeError\u001b[0m: 'OneVsRestClassifier' object has no attribute 'summary'"
     ]
    }
   ],
   "source": [
    "from scipy import stats\n",
    "from sklearn.svm import SVC\n",
    "from sklearn.multiclass import OneVsRestClassifier\n",
    "\n",
    "stats.chisqprob = lambda chisq, df: stats.chi2.sf(chisq, df)\n",
    "\n",
    "df = edf[['asset', 'user_id', 'eps', 'actual.eps', 'estimize.eps.mean', 'estimize.eps.sd']].copy()\n",
    "df['error_delta'] = (df['eps'] - df['actual.eps']) / (df['estimize.eps.sd'] + 0.01)\n",
    "df['eps_z_score'] = (df['eps'] - df['estimize.eps.mean']) / (df['estimize.eps.sd'] + 0.01)\n",
    "df.dropna(inplace=True)\n",
    "\n",
    "df['error_delta'] = mstats.winsorize(df['error_delta'], limits=[0.01, 0.01])\n",
    "df['eps_z_score'] = mstats.winsorize(df['eps_z_score'], limits=[0.01, 0.01])\n",
    "df['error_delta_p'] = (df['error_delta'] > 0) * 1.0\n",
    "df['error_delta_0'] = (df['error_delta'] == 0) * 1.0\n",
    "df['error_delta_n'] = (df['error_delta'] < 0) * 1.0\n",
    "\n",
    "adf = df.groupby(['asset'])[['error_delta']].mean()\n",
    "udf = df.groupby(['user_id'])[['error_delta']].mean()\n",
    "\n",
    "df.set_index('asset', inplace=True)\n",
    "df = df.join(adf, how='inner', lsuffix='_asset')\n",
    "df.reset_index(inplace=True)\n",
    "\n",
    "df.set_index('user_id', inplace=True)\n",
    "df = df.join(udf, how='inner', lsuffix='_user')\n",
    "df.reset_index(inplace=True)\n",
    "\n",
    "df['eps_z_score_2'] = df['eps_z_score'] * df['eps_z_score']\n",
    "\n",
    "# model_columns = ['eps_z_score'] # R2 = ?%\n",
    "# model_columns = ['eps_z_score', 'eps_z_score_2'] # R2 = ?%\n",
    "# model_columns = ['error_delta_user', 'eps_z_score', 'eps_z_score_2'] # R2 = ?%\n",
    "model_columns = ['error_delta_asset', 'eps_z_score_2', 'eps_z_score', 'error_delta_user'] # R2 = ?%\n",
    "\n",
    "value_columns = ['error_delta_p', 'error_delta_n']\n",
    "\n",
    "X = df[model_columns]\n",
    "X = sm.add_constant(X)\n",
    "Y = df[value_columns]\n",
    "\n",
    "classif = OneVsRestClassifier(SVC(\n",
    "    kernel='linear',\n",
    "    verbose=True\n",
    "))\n",
    "model = classif.fit(X, Y)\n",
    "\n",
    "# Note the difference in argument order\n",
    "predictions = model.predict(X) # make the predictions by the model\n",
    "score = model.score(X, Y)\n",
    "\n",
    "# Print out the statistics\n",
    "print(score)\n",
    "print(model.summary())\n"
   ]
  },
  {
   "cell_type": "code",
   "execution_count": 27,
   "metadata": {},
   "outputs": [
    {
     "data": {
      "text/plain": [
       "array([-1.00006971])"
      ]
     },
     "metadata": {},
     "output_type": "display_data"
    },
    {
     "data": {
      "text/plain": [
       "array([[ 0.00000000e+00,  3.00783209e+01,  1.88166946e-05,\n",
       "        -1.14471538e-04,  8.56883808e-06]])"
      ]
     },
     "metadata": {},
     "output_type": "display_data"
    },
    {
     "data": {
      "text/plain": [
       "array([-1.00009095])"
      ]
     },
     "metadata": {},
     "output_type": "display_data"
    },
    {
     "data": {
      "text/plain": [
       "array([[ 2.27373675e-13, -3.01933285e+01,  1.85772398e-05,\n",
       "        -1.30291700e-04,  6.59606693e-06]])"
      ]
     },
     "metadata": {},
     "output_type": "display_data"
    }
   ],
   "source": [
    "e1 = model.estimators_[0]\n",
    "display(e1.intercept_)\n",
    "display(e1.coef_)\n",
    "\n",
    "e2 = model.estimators_[1]\n",
    "display(e2.intercept_)\n",
    "display(e2.coef_)"
   ]
  },
  {
   "cell_type": "code",
   "execution_count": null,
   "metadata": {},
   "outputs": [],
   "source": []
  }
 ],
 "metadata": {
  "kernelspec": {
   "display_name": "Python 3",
   "language": "python",
   "name": "python3"
  },
  "language_info": {
   "codemirror_mode": {
    "name": "ipython",
    "version": 3
   },
   "file_extension": ".py",
   "mimetype": "text/x-python",
   "name": "python",
   "nbconvert_exporter": "python",
   "pygments_lexer": "ipython3",
   "version": "3.5.0"
  }
 },
 "nbformat": 4,
 "nbformat_minor": 1
}
